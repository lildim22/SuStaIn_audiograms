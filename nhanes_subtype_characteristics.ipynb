{
 "cells": [
  {
   "cell_type": "code",
   "execution_count": 30,
   "metadata": {},
   "outputs": [],
   "source": [
    "#import packages \n",
    "import pandas as pd\n",
    "import matplotlib.pyplot as plt\n",
    "\n"
   ]
  },
  {
   "cell_type": "code",
   "execution_count": null,
   "metadata": {},
   "outputs": [],
   "source": [
    "#read in data as df\n",
    "#this dataframe has the z_score data but also the most likely subtype and stage for each patient\n",
    "df = pd.read_csv(r'A:\\Documents\\NHANES\\nhanes_zdata_with_subtypes.csv')\n",
    "df"
   ]
  },
  {
   "cell_type": "code",
   "execution_count": 15,
   "metadata": {},
   "outputs": [
    {
     "name": "stdout",
     "output_type": "stream",
     "text": [
      "Unique values for subtype: [0. 3. 1. 2.]\n",
      "Unique values for stage: [ 0.  1.  4.  2.  3.  7.  5.  6.  8.  9. 10. 12. 18. 14. 13. 15. 11.]\n"
     ]
    }
   ],
   "source": [
    "#check to see unique values that subtype and stage can take\n",
    "\n",
    "print(\"Unique values for subtype:\", df.ml_subtype.unique())\n",
    "print(\"Unique values for stage:\", df['ml_stage'].unique())"
   ]
  },
  {
   "cell_type": "code",
   "execution_count": 19,
   "metadata": {},
   "outputs": [
    {
     "data": {
      "text/html": [
       "<div>\n",
       "<style scoped>\n",
       "    .dataframe tbody tr th:only-of-type {\n",
       "        vertical-align: middle;\n",
       "    }\n",
       "\n",
       "    .dataframe tbody tr th {\n",
       "        vertical-align: top;\n",
       "    }\n",
       "\n",
       "    .dataframe thead th {\n",
       "        text-align: right;\n",
       "    }\n",
       "</style>\n",
       "<table border=\"1\" class=\"dataframe\">\n",
       "  <thead>\n",
       "    <tr style=\"text-align: right;\">\n",
       "      <th></th>\n",
       "      <th>SEQN</th>\n",
       "      <th>l_500</th>\n",
       "      <th>l_1000</th>\n",
       "      <th>l_2000</th>\n",
       "      <th>l_4000</th>\n",
       "      <th>l_8000</th>\n",
       "      <th>Gender</th>\n",
       "      <th>Age</th>\n",
       "      <th>Race</th>\n",
       "      <th>HearingLoss</th>\n",
       "      <th>ml_subtype</th>\n",
       "      <th>prob_ml_subtype</th>\n",
       "      <th>ml_stage</th>\n",
       "      <th>prob_ml_stage</th>\n",
       "      <th>prob_S0</th>\n",
       "      <th>prob_S1</th>\n",
       "      <th>prob_S2</th>\n",
       "    </tr>\n",
       "  </thead>\n",
       "  <tbody>\n",
       "    <tr>\n",
       "      <th>315</th>\n",
       "      <td>1988</td>\n",
       "      <td>14.381591</td>\n",
       "      <td>14.397909</td>\n",
       "      <td>13.719129</td>\n",
       "      <td>14.281313</td>\n",
       "      <td>11.900695</td>\n",
       "      <td>Female</td>\n",
       "      <td>49</td>\n",
       "      <td>Mexican American</td>\n",
       "      <td>1</td>\n",
       "      <td>1.0</td>\n",
       "      <td>0.595742</td>\n",
       "      <td>18.0</td>\n",
       "      <td>0.340504</td>\n",
       "      <td>0.058493</td>\n",
       "      <td>0.595742</td>\n",
       "      <td>0.226588</td>\n",
       "    </tr>\n",
       "  </tbody>\n",
       "</table>\n",
       "</div>"
      ],
      "text/plain": [
       "     SEQN      l_500     l_1000     l_2000     l_4000     l_8000  Gender  Age  \\\n",
       "315  1988  14.381591  14.397909  13.719129  14.281313  11.900695  Female   49   \n",
       "\n",
       "                 Race  HearingLoss  ml_subtype  prob_ml_subtype  ml_stage  \\\n",
       "315  Mexican American            1         1.0         0.595742      18.0   \n",
       "\n",
       "     prob_ml_stage   prob_S0   prob_S1   prob_S2  \n",
       "315       0.340504  0.058493  0.595742  0.226588  "
      ]
     },
     "execution_count": 19,
     "metadata": {},
     "output_type": "execute_result"
    }
   ],
   "source": [
    "##lily to ask liam - why has no one been allocated to stages 16,17 or 19\n",
    "\n",
    "df[df['ml_stage']== 18.]"
   ]
  },
  {
   "cell_type": "code",
   "execution_count": 20,
   "metadata": {},
   "outputs": [],
   "source": [
    "# this includes all patients including normals. So now need to add 1 to each subtype and create a new subtype made up of just those in stage 0 \n",
    "# make current subtypes (0 and 1) 1 and 2 instead\n",
    "df.loc[:,'ml_subtype'] = df.ml_subtype.values + 1\n",
    "\n",
    "# convert \"Stage 0\" subjects to subtype 0\n",
    "df.loc[df.ml_stage==0,'ml_subtype'] = 0"
   ]
  },
  {
   "cell_type": "code",
   "execution_count": 21,
   "metadata": {},
   "outputs": [
    {
     "data": {
      "text/plain": [
       "0.0    422\n",
       "1.0    209\n",
       "2.0    194\n",
       "3.0    124\n",
       "4.0     51\n",
       "Name: ml_subtype, dtype: int64"
      ]
     },
     "execution_count": 21,
     "metadata": {},
     "output_type": "execute_result"
    }
   ],
   "source": [
    "df.ml_subtype.value_counts()"
   ]
  },
  {
   "cell_type": "code",
   "execution_count": 29,
   "metadata": {},
   "outputs": [
    {
     "name": "stdout",
     "output_type": "stream",
     "text": [
      "0.10.0\n",
      "Collecting seaborn\n",
      "  Using cached seaborn-0.12.2-py3-none-any.whl (293 kB)\n",
      "Requirement already satisfied, skipping upgrade: numpy!=1.24.0,>=1.17 in c:\\programdata\\anaconda3\\lib\\site-packages (from seaborn) (1.18.1)\n",
      "Requirement already satisfied, skipping upgrade: typing_extensions; python_version < \"3.8\" in c:\\programdata\\anaconda3\\lib\\site-packages (from seaborn) (4.7.1)\n",
      "Requirement already satisfied, skipping upgrade: pandas>=0.25 in c:\\programdata\\anaconda3\\lib\\site-packages (from seaborn) (1.0.1)\n",
      "Requirement already satisfied, skipping upgrade: matplotlib!=3.6.1,>=3.1 in c:\\programdata\\anaconda3\\lib\\site-packages (from seaborn) (3.1.3)\n",
      "Requirement already satisfied, skipping upgrade: python-dateutil>=2.6.1 in c:\\programdata\\anaconda3\\lib\\site-packages (from pandas>=0.25->seaborn) (2.8.1)\n",
      "Requirement already satisfied, skipping upgrade: pytz>=2017.2 in c:\\programdata\\anaconda3\\lib\\site-packages (from pandas>=0.25->seaborn) (2019.3)\n",
      "Requirement already satisfied, skipping upgrade: cycler>=0.10 in c:\\programdata\\anaconda3\\lib\\site-packages (from matplotlib!=3.6.1,>=3.1->seaborn) (0.10.0)\n",
      "Requirement already satisfied, skipping upgrade: kiwisolver>=1.0.1 in c:\\programdata\\anaconda3\\lib\\site-packages (from matplotlib!=3.6.1,>=3.1->seaborn) (1.1.0)\n",
      "Requirement already satisfied, skipping upgrade: pyparsing!=2.0.4,!=2.1.2,!=2.1.6,>=2.0.1 in c:\\programdata\\anaconda3\\lib\\site-packages (from matplotlib!=3.6.1,>=3.1->seaborn) (2.4.6)\n",
      "Requirement already satisfied, skipping upgrade: six>=1.5 in c:\\programdata\\anaconda3\\lib\\site-packages (from python-dateutil>=2.6.1->pandas>=0.25->seaborn) (1.14.0)\n",
      "Requirement already satisfied, skipping upgrade: setuptools in c:\\programdata\\anaconda3\\lib\\site-packages (from kiwisolver>=1.0.1->matplotlib!=3.6.1,>=3.1->seaborn) (45.2.0.post20200210)\n",
      "Installing collected packages: seaborn\n",
      "  Attempting uninstall: seaborn\n",
      "    Found existing installation: seaborn 0.10.0\n",
      "    Uninstalling seaborn-0.10.0:\n"
     ]
    },
    {
     "name": "stderr",
     "output_type": "stream",
     "text": [
      "Keyring is skipped due to an exception: 'keyring.backends'\n",
      "ERROR: Could not install packages due to an EnvironmentError: [WinError 5] Access is denied: 'c:\\\\programdata\\\\anaconda3\\\\lib\\\\site-packages\\\\seaborn-0.10.0.dist-info\\\\INSTALLER'\n",
      "Consider using the `--user` option or check the permissions.\n",
      "\n"
     ]
    }
   ],
   "source": [
    "print(sns.__version__)\n"
   ]
  },
  {
   "cell_type": "code",
   "execution_count": 31,
   "metadata": {},
   "outputs": [
    {
     "data": {
      "image/png": "[encoded data removed]",
      "text/plain": [
       "<Figure size 1869.5x360 with 5 Axes>"
      ]
     },
     "metadata": {
      "needs_background": "light"
     },
     "output_type": "display_data"
    }
   ],
   "source": [
    "#sanity check to ensure all the controls are assigned to low stages/ predominately the new 0 subtype group\n",
    "\n",
    "sns.catplot(x='ml_stage', hue='HearingLoss', data=df, col='ml_subtype', kind='count')\n",
    "\n",
    "plt.show()"
   ]
  },
  {
   "cell_type": "code",
   "execution_count": 32,
   "metadata": {},
   "outputs": [
    {
     "name": "stdout",
     "output_type": "stream",
     "text": [
      "            count_patients   mean_age     sd_age  count_male  count_female  \\\n",
      "ml_subtype                                                                   \n",
      "0.0                    422  36.485782  12.210293         154           268   \n",
      "1.0                    209  49.397129  13.958737         120            89   \n",
      "2.0                    194  45.536082  14.832440          81           113   \n",
      "3.0                    124  49.185484  14.024002          90            34   \n",
      "4.0                     51  45.529412  14.701501          27            24   \n",
      "\n",
      "            prop_male  prop_female  \n",
      "ml_subtype                          \n",
      "0.0          0.364929     0.635071  \n",
      "1.0          0.574163     0.425837  \n",
      "2.0          0.417526     0.582474  \n",
      "3.0          0.725806     0.274194  \n",
      "4.0          0.529412     0.470588  \n"
     ]
    }
   ],
   "source": [
    "#characteristics of the subtypes excluding subtype 0\n",
    "\n",
    "# Number of patients per subtype\n",
    "grouped = df.groupby('ml_subtype').agg(\n",
    "    count_patients=('ml_subtype', 'size'),\n",
    "    mean_age=('Age', 'mean'),\n",
    "    sd_age=('Age', 'std'),\n",
    "    count_male=('Gender', lambda x: (x == 'Male').sum()),\n",
    "    count_female=('Gender', lambda x: (x == 'Female').sum())\n",
    ")\n",
    "\n",
    "# Calculate proportion of males and females per subtype\n",
    "grouped['prop_male'] = grouped['count_male'] / grouped['count_patients']\n",
    "grouped['prop_female'] = grouped['count_female'] / grouped['count_patients']\n",
    "\n",
    "# Display the grouped stats\n",
    "print(grouped)"
   ]
  },
  {
   "cell_type": "code",
   "execution_count": 34,
   "metadata": {},
   "outputs": [
    {
     "name": "stdout",
     "output_type": "stream",
     "text": [
      "ANOVA result for age: F-statistic = 3.2825298527201583, p-value = 0.020601790740776435\n"
     ]
    }
   ],
   "source": [
    "# 2. Statistical Tests\n",
    "\n",
    "# ANOVA: Test if there's a significant difference in age between subtypes\n",
    "f_stat, p_value_age = stats.f_oneway(\n",
    "    df[df['ml_subtype'] == 1]['Age'],\n",
    "    df[df['ml_subtype'] == 2]['Age'],\n",
    "    df[df['ml_subtype'] == 3]['Age'],\n",
    "    df[df['ml_subtype'] == 4]['Age']\n",
    ")\n",
    "print(f\"ANOVA result for age: F-statistic = {f_stat}, p-value = {p_value_age}\")"
   ]
  },
  {
   "cell_type": "code",
   "execution_count": 35,
   "metadata": {},
   "outputs": [
    {
     "name": "stdout",
     "output_type": "stream",
     "text": [
      "Chi-squared test result for sex: Chi2-statistic = 63.20163867844757, p-value = 6.154135475406006e-13\n"
     ]
    }
   ],
   "source": [
    "# Chi-squared test: Test if there's a significant association between subtype and sex\n",
    "contingency_table = pd.crosstab(df['ml_subtype'], df['Gender'])\n",
    "chi2_stat, p_value_sex, dof, expected = stats.chi2_contingency(contingency_table)\n",
    "print(f\"Chi-squared test result for sex: Chi2-statistic = {chi2_stat}, p-value = {p_value_sex}\")"
   ]
  },
  {
   "cell_type": "code",
   "execution_count": 40,
   "metadata": {},
   "outputs": [
    {
     "name": "stdout",
     "output_type": "stream",
     "text": [
      "Multiple Comparison of Means - Tukey HSD, FWER=0.05 \n",
      "====================================================\n",
      "group1 group2 meandiff p-adj   lower   upper  reject\n",
      "----------------------------------------------------\n",
      "   0.0    1.0  12.9113  0.001  9.7959 16.0268   True\n",
      "   0.0    2.0   9.0503  0.001  5.8553 12.2453   True\n",
      "   0.0    3.0  12.6997  0.001  8.9373 16.4621   True\n",
      "   0.0    4.0   9.0436  0.001  3.5832  14.504   True\n",
      "   1.0    2.0   -3.861 0.0337 -7.5332 -0.1889   True\n",
      "   1.0    3.0  -0.2116    0.9 -4.3868  3.9635  False\n",
      "   1.0    4.0  -3.8677  0.353 -9.6203  1.8849  False\n",
      "   2.0    3.0   3.6494 0.1285 -0.5855  7.8843  False\n",
      "   2.0    4.0  -0.0067    0.9 -5.8027  5.7894  False\n",
      "   3.0    4.0  -3.6561 0.4788 -9.7832  2.4711  False\n",
      "----------------------------------------------------\n"
     ]
    }
   ],
   "source": [
    "import statsmodels.api as sm\n",
    "from statsmodels.stats.multicomp import pairwise_tukeyhsd\n",
    "\n",
    "# Run the Tukey's HSD test\n",
    "tukey = pairwise_tukeyhsd(endog=df['Age'], groups=df['ml_subtype'], alpha=0.05)\n",
    "\n",
    "print(tukey.summary())"
   ]
  },
  {
   "cell_type": "code",
   "execution_count": 37,
   "metadata": {},
   "outputs": [
    {
     "name": "stdout",
     "output_type": "stream",
     "text": [
      "Comparison (0.0, 1.0): p-value = 6.014307313915738e-07\n",
      "Comparison (0.0, 2.0): p-value = 0.21192973547314486\n",
      "Comparison (0.0, 3.0): p-value = 1.194592650140998e-12\n",
      "Comparison (0.0, 4.0): p-value = 0.022444028632612585\n",
      "Comparison (1.0, 2.0): p-value = 0.0016762921683725154\n",
      "Comparison (1.0, 3.0): p-value = 0.005574007661896491\n",
      "Comparison (1.0, 4.0): p-value = 0.5632451647446288\n",
      "Comparison (2.0, 3.0): p-value = 7.534862176242883e-08\n",
      "Comparison (2.0, 4.0): p-value = 0.15211595558643567\n",
      "Comparison (3.0, 4.0): p-value = 0.012139636926416612\n"
     ]
    }
   ],
   "source": [
    "# Get contingency table for sex vs. subtype\n",
    "contingency_table = pd.crosstab(df['ml_subtype'], df['Gender'])\n",
    "\n",
    "# Loop through all pairs of subtypes and perform the Z-test\n",
    "subtypes = contingency_table.index.tolist()\n",
    "pairs = list(itertools.combinations(subtypes, 2))  # Get all subtype pairs\n",
    "\n",
    "for pair in pairs:\n",
    "    count = contingency_table.loc[list(pair), 'Male'].values  # Male counts\n",
    "    nobs = contingency_table.loc[list(pair)].sum(axis=1).values  # Total counts (male + female)\n",
    "    \n",
    "    stat, p_val = proportions_ztest(count, nobs)\n",
    "    print(f\"Comparison {pair}: p-value = {p_val}\")"
   ]
  },
  {
   "cell_type": "code",
   "execution_count": null,
   "metadata": {},
   "outputs": [],
   "source": []
  }
 ],
 "metadata": {
  "kernelspec": {
   "display_name": "Python 3",
   "language": "python",
   "name": "python3"
  },
  "language_info": {
   "codemirror_mode": {
    "name": "ipython",
    "version": 3
   },
   "file_extension": ".py",
   "mimetype": "text/x-python",
   "name": "python",
   "nbconvert_exporter": "python",
   "pygments_lexer": "ipython3",
   "version": "3.7.6"
  }
 },
 "nbformat": 4,
 "nbformat_minor": 4
}
